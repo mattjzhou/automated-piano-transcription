{
 "cells": [
  {
   "cell_type": "code",
   "execution_count": 1,
   "metadata": {
    "pycharm": {
     "name": "#%%\n"
    }
   },
   "outputs": [
    {
     "name": "stderr",
     "output_type": "stream",
     "text": [
      "C:\\Users\\Andrew\\AppData\\Local\\Programs\\Python\\Python310\\lib\\site-packages\\torchaudio\\functional\\functional.py:571: UserWarning: At least one mel filterbank has all zero values. The value for `n_mels` (512) may be set too high. Or, the value for `n_freqs` (1025) may be set too low.\n",
      "  warnings.warn(\n"
     ]
    }
   ],
   "source": [
    "import torch\n",
    "import torch.nn as nn\n",
    "import torch.optim as optim\n",
    "import torchmetrics as metrics\n",
    "import numpy as np\n",
    "from preprocessing.audio_preprocessor import load_metadata\n",
    "from preprocessing.data_preprocessor import MaestroDataset\n",
    "from models.baseline import Baseline\n",
    "\n",
    "saved_var_path = \"D:/dlp/\"\n",
    "data_path = \"data/maestro-v3.0.0/\"\n",
    "meta = load_metadata(data_path + 'maestro-v3.0.0.json')\n",
    "device = torch.device(\"cuda\" if torch.cuda.is_available() else \"cpu\")\n",
    "params = {'batch_size': 1,\n",
    "          'shuffle': True,\n",
    "          'num_workers': 0}"
   ]
  },
  {
   "cell_type": "code",
   "execution_count": 2,
   "metadata": {
    "pycharm": {
     "name": "#%%\n"
    }
   },
   "outputs": [],
   "source": [
    "def data_idx():\n",
    "    train_idx, test_idx, val_idx = [], [], []\n",
    "    for i in range(len(meta['duration'])):\n",
    "        if meta['split'][str(i)] == 'train':\n",
    "            train_idx.append(i)\n",
    "        if meta['split'][str(i)] == 'test':\n",
    "            test_idx.append(i)\n",
    "        if meta['split'][str(i)] == 'val':\n",
    "            val_idx.append(i)\n",
    "    return np.array(train_idx), np.array(test_idx), np.array(val_idx)\n",
    "\n",
    "train_idx, test_idx, val_idx = data_idx()"
   ]
  },
  {
   "cell_type": "code",
   "execution_count": 3,
   "metadata": {
    "pycharm": {
     "name": "#%%\n"
    }
   },
   "outputs": [],
   "source": [
    "train_set = MaestroDataset(train_idx, meta, data_path, 512, audio_preprocessor.SPECTROGRAM)\n",
    "training_generator = torch.utils.data.DataLoader(train_set, **params)"
   ]
  },
  {
   "cell_type": "markdown",
   "metadata": {
    "pycharm": {
     "name": "#%% md\n"
    }
   },
   "source": []
  },
  {
   "cell_type": "code",
   "execution_count": 4,
   "metadata": {
    "pycharm": {
     "name": "#%%\n"
    }
   },
   "outputs": [],
   "source": [
    "# calculate the event vocab size: 3 + 88 + 128 + np.round(time per sequence * 100)\n",
    "vocab_size = 3 + 88 + 128 + int(np.round(4.088 * 100))\n",
    "model = Baseline(vocab_size=vocab_size).to(device)\n",
    "\n",
    "optimizer = optim.Adam(model.parameters())\n",
    "loss_function = nn.CrossEntropyLoss()"
   ]
  },
  {
   "cell_type": "code",
   "execution_count": 5,
   "metadata": {
    "pycharm": {
     "name": "#%%\n"
    }
   },
   "outputs": [],
   "source": [
    "def train(model, loss_function, optimizer):\n",
    "    model.train()\n",
    "    loss = 0\n",
    "    for i in range(100):\n",
    "        for batch, sample_batched in enumerate(training_generator):\n",
    "            X = sample_batched['spectrogram'].to(device)\n",
    "            y = sample_batched['midi'].to(device)\n",
    "            src_pad_mask = sample_batched['src_pad_mask'].to(device)\n",
    "            tgt_pad_mask = sample_batched['tgt_pad_mask'].to(device)\n",
    "            # zero out the parameter gradients\n",
    "            optimizer.zero_grad()\n",
    "            # do forward pass with current batch of input\n",
    "            outs = model(X, y, src_key_padding_mask=src_pad_mask, tgt_key_padding_mask=tgt_pad_mask)\n",
    "            # get loss with model predictions and true labels\n",
    "            # we permute in order to fit the cross entropy expected shape of (batch, classes, d_1)\n",
    "            # our sequence length technically isn't multidimensional but this says it's fine: https://stackoverflow.com/questions/69367671/correct-use-of-cross-entropy-as-a-loss-function-for-sequence-of-elements\n",
    "            loss = loss_function(outs.permute(0, 2, 1), y)\n",
    "            # update model parameters\n",
    "            loss.backward()\n",
    "            optimizer.step()\n",
    "        if i % 10 == 0:\n",
    "            log = \"Fake epoch \" + str(i) + \": loss: \" + str(loss)\n",
    "            print(log)\n",
    "            torch.save({\n",
    "            'model_state_dict': model.state_dict(),\n",
    "            'optimizer_state_dict': optimizer.state_dict(),\n",
    "            'loss': loss,\n",
    "            }, \"model\")\n",
    "\n"
   ]
  },
  {
   "cell_type": "code",
   "execution_count": 6,
   "metadata": {
    "pycharm": {
     "name": "#%%\n"
    }
   },
   "outputs": [],
   "source": [
    "def test(model, loss_function):\n",
    "    model.eval()\n",
    "    correct = 0\n",
    "    total = 0\n",
    "    for i in range(2000):\n",
    "        X, y = sample_test_batch()\n",
    "        outs = model(X, y)\n",
    "        pred = torch.argmax(outs, dim=2)\n",
    "        y = torch.argmax(y, dim=2)\n",
    "        correct += torch.eq(pred, y).sum()\n",
    "        total += X.shape[0]\n",
    "    print(correct )\n",
    "    print(total)\n",
    "    print(correct / total)\n"
   ]
  },
  {
   "cell_type": "code",
   "execution_count": null,
   "metadata": {
    "pycharm": {
     "is_executing": true,
     "name": "#%%\n"
    }
   },
   "outputs": [],
   "source": [
    "train(model, loss_function, optimizer)"
   ]
  },
  {
   "cell_type": "code",
   "execution_count": null,
   "metadata": {
    "pycharm": {
     "is_executing": true,
     "name": "#%%\n"
    }
   },
   "outputs": [],
   "source": [
    "checkpoint = torch.load(\"model\")\n",
    "model.load_state_dict(checkpoint['model_state_dict'])\n",
    "optimizer.load_state_dict(checkpoint['optimizer_state_dict'])\n",
    "loss = checkpoint['loss']\n",
    "\n",
    "#test(model, loss_function)\n",
    "#model.eval()\n",
    "# X, y = sample_train_batch()\n",
    "# outs = model(X, y)\n",
    "# m = nn.Softmax()\n",
    "# soft = m(outs)\n",
    "# pred = torch.argmax(outs, dim=2)\n",
    "# print(soft)\n",
    "# print(pred)\n",
    "# print(torch.argmax(y, dim=2))\n",
    "# print(outs)\n",
    "#\n",
    "# del soft\n",
    "# del pred\n",
    "# del outs\n",
    "# del X\n",
    "# del y\n",
    "# torch.cuda.empty_cache()"
   ]
  },
  {
   "cell_type": "code",
   "execution_count": null,
   "metadata": {
    "pycharm": {
     "is_executing": true,
     "name": "#%%\n"
    }
   },
   "outputs": [],
   "source": [
    "checkpoint = torch.load(\"model\")\n",
    "model.load_state_dict(checkpoint['model_state_dict'])\n",
    "\n",
    "X = np.load(saved_var_path + \"test/spec/test_spec_6.npy\")\n",
    "y = np.load(saved_var_path + 'test/midi/train_midi_6.npy')\n",
    "\n",
    "out_seq = []\n",
    "\n",
    "for i in range(X.shape[0]):\n",
    "    b = torch.nn.functional.one_hot(torch.tensor(y[i]).to(torch.int64), num_classes=512)\n",
    "    b = torch.unsqueeze(b, dim=0)\n",
    "    print(b)\n",
    "    x = torch.unsqueeze(torch.tensor(X[i]), dim=0)\n",
    "    #print(x)\n",
    "    outs = model(torch.tensor(x).to(device), b.to(torch.float32).to(device))\n",
    "    print(outs)\n",
    "    pred = torch.argmax(outs, dim=2)\n",
    "    #print(pred.shape)\n",
    "    #print(pred)\n",
    "    out_seq.extend(pred)\n",
    "\n"
   ]
  },
  {
   "cell_type": "code",
   "execution_count": null,
   "metadata": {
    "pycharm": {
     "is_executing": true,
     "name": "#%%\n"
    }
   },
   "outputs": [],
   "source": [
    "print(len(out_seq))\n",
    "print(out_seq)\n",
    "print(out_seq[0])\n",
    "for i in out_seq[0]:\n",
    "    print(i, ' ')"
   ]
  },
  {
   "cell_type": "code",
   "execution_count": null,
   "metadata": {
    "pycharm": {
     "is_executing": true,
     "name": "#%%\n"
    }
   },
   "outputs": [],
   "source": []
  }
 ],
 "metadata": {
  "kernelspec": {
   "display_name": "Python 3 (ipykernel)",
   "language": "python",
   "name": "python3"
  },
  "language_info": {
   "codemirror_mode": {
    "name": "ipython",
    "version": 3
   },
   "file_extension": ".py",
   "mimetype": "text/x-python",
   "name": "python",
   "nbconvert_exporter": "python",
   "pygments_lexer": "ipython3",
   "version": "3.11.3"
  }
 },
 "nbformat": 4,
 "nbformat_minor": 1
}
